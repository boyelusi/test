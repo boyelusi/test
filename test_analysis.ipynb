{
 "cells": [
  {
   "cell_type": "markdown",
   "metadata": {},
   "source": [
    "# Problem Statement\n",
    "\n",
    "### How do we increase paid conversion rates in the first 14 days?"
   ]
  },
  {
   "cell_type": "markdown",
   "metadata": {},
   "source": [
    "# Initialize "
   ]
  },
  {
   "cell_type": "code",
   "execution_count": 59,
   "metadata": {},
   "outputs": [
    {
     "name": "stdout",
     "output_type": "stream",
     "text": [
      "Requirement already satisfied: pandas in /usr/local/lib/python3.8/site-packages (1.2.1)\n",
      "Requirement already satisfied: numpy>=1.16.5 in /usr/local/lib/python3.8/site-packages (from pandas) (1.20.0)\n",
      "Requirement already satisfied: python-dateutil>=2.7.3 in /usr/local/lib/python3.8/site-packages (from pandas) (2.8.1)\n",
      "Requirement already satisfied: pytz>=2017.3 in /usr/local/lib/python3.8/site-packages (from pandas) (2020.5)\n",
      "Requirement already satisfied: six>=1.5 in /usr/local/lib/python3.8/site-packages (from python-dateutil>=2.7.3->pandas) (1.15.0)\n",
      "Requirement already satisfied: numpy in /usr/local/lib/python3.8/site-packages (1.20.0)\n",
      "Collecting sklearn\n",
      "  Downloading sklearn-0.0.tar.gz (1.1 kB)\n",
      "Collecting scikit-learn\n",
      "  Downloading scikit_learn-0.24.1-cp38-cp38-macosx_10_13_x86_64.whl (7.2 MB)\n",
      "\u001b[K     |████████████████████████████████| 7.2 MB 3.8 MB/s eta 0:00:01\n",
      "\u001b[?25hRequirement already satisfied: numpy>=1.13.3 in /usr/local/lib/python3.8/site-packages (from scikit-learn->sklearn) (1.20.0)\n",
      "Collecting joblib>=0.11\n",
      "  Downloading joblib-1.0.0-py3-none-any.whl (302 kB)\n",
      "\u001b[K     |████████████████████████████████| 302 kB 80.5 MB/s eta 0:00:01\n",
      "\u001b[?25hCollecting scipy>=0.19.1\n",
      "  Downloading scipy-1.6.0-cp38-cp38-macosx_10_9_x86_64.whl (30.7 MB)\n",
      "\u001b[K     |████████████████████████████████| 30.7 MB 52.2 MB/s eta 0:00:01\n",
      "\u001b[?25hCollecting threadpoolctl>=2.0.0\n",
      "  Downloading threadpoolctl-2.1.0-py3-none-any.whl (12 kB)\n",
      "Building wheels for collected packages: sklearn\n",
      "  Building wheel for sklearn (setup.py) ... \u001b[?25ldone\n",
      "\u001b[?25h  Created wheel for sklearn: filename=sklearn-0.0-py2.py3-none-any.whl size=1315 sha256=86c67dc42a2fda25910b103957da5e4944cd5861d93fed40b9d5ff66c35d66e5\n",
      "  Stored in directory: /Users/boyelusi/Library/Caches/pip/wheels/22/0b/40/fd3f795caaa1fb4c6cb738bc1f56100be1e57da95849bfc897\n",
      "Successfully built sklearn\n",
      "Installing collected packages: joblib, scipy, threadpoolctl, scikit-learn, sklearn\n",
      "Successfully installed joblib-1.0.0 scikit-learn-0.24.1 scipy-1.6.0 sklearn-0.0 threadpoolctl-2.1.0\n"
     ]
    }
   ],
   "source": [
    "!pip install pandas\n",
    "!pip install numpy\n",
    "!pip install sklearn"
   ]
  },
  {
   "cell_type": "markdown",
   "metadata": {},
   "source": [
    "# Load Data from CSV"
   ]
  },
  {
   "cell_type": "code",
   "execution_count": 41,
   "metadata": {},
   "outputs": [],
   "source": [
    "import pandas as pd\n",
    "filename = 'train.csv'\n",
    "raw_data = pd.read_csv(filename)"
   ]
  },
  {
   "cell_type": "markdown",
   "metadata": {},
   "source": [
    "# 1) Analyze Data\n",
    "\n",
    "We will use descriptive statistics and visualization to understand the data "
   ]
  },
  {
   "cell_type": "markdown",
   "metadata": {},
   "source": [
    "## Preview at raw data"
   ]
  },
  {
   "cell_type": "code",
   "execution_count": 42,
   "metadata": {},
   "outputs": [
    {
     "name": "stdout",
     "output_type": "stream",
     "text": [
      "     idx  time_to_first_matter  time_to_first_time_entry  time_to_first_bill  time_to_second_user  \\\n",
      "0    745                   NaN                       NaN                 NaN                  NaN   \n",
      "1   1190             117.00000                 117.00000           223.00000         280881.00000   \n",
      "2   1242             351.00000                 448.00000                 NaN                  NaN   \n",
      "3   1044                   NaN                       NaN                 NaN                  NaN   \n",
      "4    304                   NaN                       NaN                 NaN                  NaN   \n",
      "5    843         1190696.00000             1190448.00000       1191054.00000                  NaN   \n",
      "6    936             278.00000                 355.00000                 NaN                  NaN   \n",
      "7    997                   NaN                       NaN                 NaN           1168.00000   \n",
      "8    110                   NaN                       NaN                 NaN                  NaN   \n",
      "9    871                   NaN                 332.00000                 NaN                  NaN   \n",
      "10   105                   NaN                       NaN                 NaN                  NaN   \n",
      "11   862                   NaN                       NaN                 NaN                  NaN   \n",
      "12   966                   NaN                       NaN                 NaN                  NaN   \n",
      "13   181                   NaN                       NaN                 NaN                  NaN   \n",
      "14   536             192.00000                 192.00000                 NaN                  NaN   \n",
      "15   890                   NaN                       NaN                 NaN                  NaN   \n",
      "16  1232                   NaN                       NaN                 NaN                  NaN   \n",
      "17  1062                   NaN                       NaN                 NaN                  NaN   \n",
      "18   385                   NaN                       NaN                 NaN            120.00000   \n",
      "19   650                   NaN                       NaN                 NaN                  NaN   \n",
      "\n",
      "    page_views_in_first_hour  page_views_in_first_day  page_views_in_first_7_days  \\\n",
      "0                   12.00000                 12.00000                    12.00000   \n",
      "1                   16.00000                 16.00000                    31.00000   \n",
      "2                   20.00000                 20.00000                    20.00000   \n",
      "3                    1.00000                  5.00000                     5.00000   \n",
      "4                    4.00000                  4.00000                     4.00000   \n",
      "5                    7.00000                  7.00000                    13.00000   \n",
      "6                   10.00000                 10.00000                    10.00000   \n",
      "7                   41.00000                 89.00000                    89.00000   \n",
      "8                   22.00000                 22.00000                    24.00000   \n",
      "9                   10.00000                 20.00000                    20.00000   \n",
      "10                   1.00000                  1.00000                     1.00000   \n",
      "11                   5.00000                  5.00000                     5.00000   \n",
      "12                  10.00000                 10.00000                    10.00000   \n",
      "13                       NaN                      NaN                         NaN   \n",
      "14                  27.00000                 56.00000                    56.00000   \n",
      "15                  12.00000                 22.00000                    22.00000   \n",
      "16                   6.00000                  6.00000                     6.00000   \n",
      "17                  20.00000                 20.00000                    20.00000   \n",
      "18                  16.00000                 16.00000                    21.00000   \n",
      "19                  25.00000                 25.00000                    25.00000   \n",
      "\n",
      "    page_views_in_first_14_days  time_to_conversion  conversion_value  \n",
      "0                      12.00000                 NaN               NaN  \n",
      "1                      31.00000        281245.00000         140.00000  \n",
      "2                      20.00000                 NaN               NaN  \n",
      "3                       5.00000                 NaN               NaN  \n",
      "4                       4.00000                 NaN               NaN  \n",
      "5                      59.00000        591962.00000          69.00000  \n",
      "6                      10.00000                 NaN               NaN  \n",
      "7                      89.00000          1973.00000         828.00000  \n",
      "8                      24.00000                 NaN               NaN  \n",
      "9                      20.00000                 NaN               NaN  \n",
      "10                      1.00000                 NaN               NaN  \n",
      "11                      7.00000                 NaN               NaN  \n",
      "12                     10.00000                 NaN               NaN  \n",
      "13                          NaN                 NaN               NaN  \n",
      "14                    116.00000         69625.00000          52.37000  \n",
      "15                     22.00000                 NaN               NaN  \n",
      "16                      6.00000                 NaN               NaN  \n",
      "17                     20.00000                 NaN               NaN  \n",
      "18                     21.00000                 NaN               NaN  \n",
      "19                     25.00000                 NaN               NaN  \n"
     ]
    }
   ],
   "source": [
    "preview = raw_data.head(20)\n",
    "print(preview)"
   ]
  },
  {
   "cell_type": "markdown",
   "metadata": {},
   "source": [
    "## Dimensions of data"
   ]
  },
  {
   "cell_type": "code",
   "execution_count": 43,
   "metadata": {},
   "outputs": [
    {
     "name": "stdout",
     "output_type": "stream",
     "text": [
      "(1000, 11)\n"
     ]
    }
   ],
   "source": [
    "shape = raw_data.shape\n",
    "print(shape)"
   ]
  },
  {
   "cell_type": "markdown",
   "metadata": {},
   "source": [
    "## Data type for each attribute"
   ]
  },
  {
   "cell_type": "code",
   "execution_count": 44,
   "metadata": {},
   "outputs": [
    {
     "name": "stdout",
     "output_type": "stream",
     "text": [
      "idx                              int64\n",
      "time_to_first_matter           float64\n",
      "time_to_first_time_entry       float64\n",
      "time_to_first_bill             float64\n",
      "time_to_second_user            float64\n",
      "page_views_in_first_hour       float64\n",
      "page_views_in_first_day        float64\n",
      "page_views_in_first_7_days     float64\n",
      "page_views_in_first_14_days    float64\n",
      "time_to_conversion             float64\n",
      "conversion_value               float64\n",
      "dtype: object\n"
     ]
    }
   ],
   "source": [
    "types = raw_data.dtypes\n",
    "print(types)"
   ]
  },
  {
   "cell_type": "markdown",
   "metadata": {},
   "source": [
    "## Descriptive Statistics\n",
    "- Using the train data set we see 1000 accounts\n",
    "- Assuming normal conditions we see that 171 accounts out of 1000 converted with a conversion rate of 17.1%\n",
    "- We are seeing minimum values to get to each stage can be as little as seconds or can take many almost the whole 14 day period\n",
    "- The biggest drop in the number of accounts in the funnel happens from the time the 14 day trial starts to the time to first matter by 55.6%. Making note that accounts can convert without engaging in application. But this would be a good area to involve the Sales And Marketing Team to reach out to customers who have not converted and not engaged after a few days. They may help answer questions the account may have and help them with a smoother onboarding process in the early stages \n",
    "- Another significant drop in the funnel is the number of accounts going from time to first time entry to time to first bill. 18.1% of accounts get the first bill. The Sales Team and Account Management Team can help increase this rate by touching base with the account to help them understand any questions they may have about their bill or service.\n",
    "- 11.6% of accounts get a second user and is an opportunity for the Sales Team and Account Management Team to engage with the customer when they get to their first bill\n",
    "- 17.1% of the accounts actually convert as stated earlier. Its slightly lower than the 18.1% that get the first bill which means their may be some difficulty with some accounts paying. The Account Management Team may be able to touch base with the customer here to ensure that payment methods are not experiencing isssues with charging credit cards. Payment arrangments can also be made here to help ensure we recieve payment.\n",
    "- We see the a steady increase of average (mean) page views from first hour, to first day, to first seven days, and first 2 weeks. \n",
    "- The average conversion value $119.23. This should be watched alongside cost of aquisition per account by the Marketing Team\n"
   ]
  },
  {
   "cell_type": "code",
   "execution_count": 45,
   "metadata": {},
   "outputs": [
    {
     "name": "stdout",
     "output_type": "stream",
     "text": [
      "             idx  time_to_first_matter  time_to_first_time_entry  time_to_first_bill  \\\n",
      "count 1000.00000             444.00000                 365.00000           181.00000   \n",
      "mean   648.07500          125224.85360              131241.60548        205680.39779   \n",
      "std    369.84021          254762.37811              255418.15214        301326.67633   \n",
      "min      2.00000              48.00000                  15.00000           217.00000   \n",
      "25%    326.50000             437.25000                 551.00000          1239.00000   \n",
      "50%    658.50000            1955.50000                2819.00000         16591.00000   \n",
      "75%    970.25000           89674.50000              151014.00000        342753.00000   \n",
      "max   1283.00000         1190696.00000             1208042.00000       1204219.00000   \n",
      "\n",
      "       time_to_second_user  page_views_in_first_hour  page_views_in_first_day  \\\n",
      "count            116.00000                 972.00000                972.00000   \n",
      "mean          188593.61207                  20.17695                 38.40329   \n",
      "std           315468.78484                  23.05493                 68.85668   \n",
      "min               79.00000                   1.00000                  1.00000   \n",
      "25%              491.00000                   5.00000                  7.00000   \n",
      "50%             4414.00000                  13.00000                 16.00000   \n",
      "75%           310103.25000                  26.00000                 38.00000   \n",
      "max          1198713.00000                 149.00000                673.00000   \n",
      "\n",
      "       page_views_in_first_7_days  page_views_in_first_14_days  time_to_conversion  \\\n",
      "count                   972.00000                    972.00000           171.00000   \n",
      "mean                     75.99794                    112.87757        398793.47368   \n",
      "std                     163.45857                    279.54588        357437.60751   \n",
      "min                       1.00000                      1.00000           132.00000   \n",
      "25%                       8.00000                      9.00000         14244.00000   \n",
      "50%                      20.00000                     22.00000        406343.00000   \n",
      "75%                      66.25000                     88.25000        606905.50000   \n",
      "max                    1813.00000                   3532.00000       1204386.00000   \n",
      "\n",
      "       conversion_value  \n",
      "count         171.00000  \n",
      "mean          119.22836  \n",
      "std           125.85333  \n",
      "min            29.59000  \n",
      "25%            51.75000  \n",
      "50%            69.00000  \n",
      "75%           138.00000  \n",
      "max           828.00000  \n"
     ]
    }
   ],
   "source": [
    "pd.set_option('display.width', 100)\n",
    "pd.set_option('display.float_format', lambda x: '%.5f' % x)\n",
    "description = raw_data.describe()\n",
    "print(description)"
   ]
  },
  {
   "cell_type": "markdown",
   "metadata": {},
   "source": [
    "## Correlations Between Attributes\n",
    "- Assuming a normal distribution here\n",
    "- Using Pearson's Correlation Coefficient to see relationships between two variables at a time\n",
    "- Time To First Matter is highly correlated with Time To First Time Entry with a correlation of 0.82194 (1 means a positive correlation)\n",
    "- Page Views In First 7 Days is highly correlated with Page Views In First 14 Days with a correlation of 0.84131\n"
   ]
  },
  {
   "cell_type": "code",
   "execution_count": 46,
   "metadata": {},
   "outputs": [
    {
     "name": "stdout",
     "output_type": "stream",
     "text": [
      "                                 idx  time_to_first_matter  time_to_first_time_entry  \\\n",
      "idx                          1.00000               0.08228                   0.02448   \n",
      "time_to_first_matter         0.08228               1.00000                   0.82194   \n",
      "time_to_first_time_entry     0.02448               0.82194                   1.00000   \n",
      "time_to_first_bill           0.00232               0.59288                   0.50156   \n",
      "time_to_second_user         -0.14466               0.20757                  -0.05208   \n",
      "page_views_in_first_hour     0.01080              -0.22033                  -0.21484   \n",
      "page_views_in_first_day     -0.00834              -0.19843                  -0.17121   \n",
      "page_views_in_first_7_days  -0.01309              -0.09506                   0.00353   \n",
      "page_views_in_first_14_days -0.02819               0.04183                   0.14579   \n",
      "time_to_conversion          -0.16530              -0.08042                  -0.06521   \n",
      "conversion_value             0.09293               0.23936                   0.28195   \n",
      "\n",
      "                             time_to_first_bill  time_to_second_user  page_views_in_first_hour  \\\n",
      "idx                                     0.00232             -0.14466                   0.01080   \n",
      "time_to_first_matter                    0.59288              0.20757                  -0.22033   \n",
      "time_to_first_time_entry                0.50156             -0.05208                  -0.21484   \n",
      "time_to_first_bill                      1.00000              0.11880                  -0.22827   \n",
      "time_to_second_user                     0.11880              1.00000                  -0.12784   \n",
      "page_views_in_first_hour               -0.22827             -0.12784                   1.00000   \n",
      "page_views_in_first_day                -0.16124             -0.18781                   0.68065   \n",
      "page_views_in_first_7_days              0.13525             -0.17438                   0.48646   \n",
      "page_views_in_first_14_days             0.38600             -0.08035                   0.36126   \n",
      "time_to_conversion                     -0.07500              0.59240                   0.05822   \n",
      "conversion_value                       -0.06888             -0.27879                   0.00781   \n",
      "\n",
      "                             page_views_in_first_day  page_views_in_first_7_days  \\\n",
      "idx                                         -0.00834                    -0.01309   \n",
      "time_to_first_matter                        -0.19843                    -0.09506   \n",
      "time_to_first_time_entry                    -0.17121                     0.00353   \n",
      "time_to_first_bill                          -0.16124                     0.13525   \n",
      "time_to_second_user                         -0.18781                    -0.17438   \n",
      "page_views_in_first_hour                     0.68065                     0.48646   \n",
      "page_views_in_first_day                      1.00000                     0.75792   \n",
      "page_views_in_first_7_days                   0.75792                     1.00000   \n",
      "page_views_in_first_14_days                  0.56918                     0.84131   \n",
      "time_to_conversion                          -0.03538                    -0.10211   \n",
      "conversion_value                             0.02413                     0.05279   \n",
      "\n",
      "                             page_views_in_first_14_days  time_to_conversion  conversion_value  \n",
      "idx                                             -0.02819            -0.16530           0.09293  \n",
      "time_to_first_matter                             0.04183            -0.08042           0.23936  \n",
      "time_to_first_time_entry                         0.14579            -0.06521           0.28195  \n",
      "time_to_first_bill                               0.38600            -0.07500          -0.06888  \n",
      "time_to_second_user                             -0.08035             0.59240          -0.27879  \n",
      "page_views_in_first_hour                         0.36126             0.05822           0.00781  \n",
      "page_views_in_first_day                          0.56918            -0.03538           0.02413  \n",
      "page_views_in_first_7_days                       0.84131            -0.10211           0.05279  \n",
      "page_views_in_first_14_days                      1.00000            -0.12429           0.11777  \n",
      "time_to_conversion                              -0.12429             1.00000          -0.23722  \n",
      "conversion_value                                 0.11777            -0.23722           1.00000  \n"
     ]
    }
   ],
   "source": [
    "correlations = raw_data.corr(method='pearson')\n",
    "print(correlations)"
   ]
  },
  {
   "cell_type": "markdown",
   "metadata": {},
   "source": [
    "## Relationships Between Conversion And Engagement\n",
    "- With the customer journey of some engagement and no conversion, just over  33% of accounts go through this path. There is an opportunity to engage with customers here during their onboarding process and we can get the Sales team involved to help customers with any questions they may have about the product. Its also an opportunity to collect that feedback and share it with the Software Development Team. This would be a great time to ideat and come up with A/B testing experiment ideas\n",
    "- Almost 50% have no engagment and no conversion. The Marketing Team would be good to loop in here to see if there is copy or messaging that could entice the prospect to act on a call to action to trigger engagement. This is another place where A/B testing can be used to see if we can see some lift.\n",
    "- The cohort where there is some engagement and conversion provides the most conversion value. They are only 16.7% of the train group but there is potential to increase the average revenue of $121.47 by invovling the Account Management Team to get them to upgrade.\n",
    "- The cohort where there is no engagement and conversion is a small group but it would be a good opportunity to involve the Sales and Marketing Team to try and understand the accounts' reasoning to paying right away. We can use this feedback to ideate on A/B tests to help bring in more of these types of customers. Their average conversion value is smaller compared to the previous cohort. This is an opportunity to involve the Account Management Team to try and upsell."
   ]
  },
  {
   "cell_type": "code",
   "execution_count": 47,
   "metadata": {},
   "outputs": [
    {
     "data": {
      "text/html": [
       "<div>\n",
       "<style scoped>\n",
       "    .dataframe tbody tr th:only-of-type {\n",
       "        vertical-align: middle;\n",
       "    }\n",
       "\n",
       "    .dataframe tbody tr th {\n",
       "        vertical-align: top;\n",
       "    }\n",
       "\n",
       "    .dataframe thead tr th {\n",
       "        text-align: left;\n",
       "    }\n",
       "\n",
       "    .dataframe thead tr:last-of-type th {\n",
       "        text-align: right;\n",
       "    }\n",
       "</style>\n",
       "<table border=\"1\" class=\"dataframe\">\n",
       "  <thead>\n",
       "    <tr>\n",
       "      <th></th>\n",
       "      <th colspan=\"5\" halign=\"left\">conversion_value</th>\n",
       "    </tr>\n",
       "    <tr>\n",
       "      <th></th>\n",
       "      <th>size</th>\n",
       "      <th>sum</th>\n",
       "      <th>mean</th>\n",
       "      <th>amax</th>\n",
       "      <th>amin</th>\n",
       "    </tr>\n",
       "    <tr>\n",
       "      <th>journey</th>\n",
       "      <th></th>\n",
       "      <th></th>\n",
       "      <th></th>\n",
       "      <th></th>\n",
       "      <th></th>\n",
       "    </tr>\n",
       "  </thead>\n",
       "  <tbody>\n",
       "    <tr>\n",
       "      <th>no engagement and conversion</th>\n",
       "      <td>5.00000</td>\n",
       "      <td>224.06000</td>\n",
       "      <td>44.81200</td>\n",
       "      <td>52.37000</td>\n",
       "      <td>29.59000</td>\n",
       "    </tr>\n",
       "    <tr>\n",
       "      <th>no engagement and no conversion</th>\n",
       "      <td>498.00000</td>\n",
       "      <td>0.00000</td>\n",
       "      <td>NaN</td>\n",
       "      <td>NaN</td>\n",
       "      <td>NaN</td>\n",
       "    </tr>\n",
       "    <tr>\n",
       "      <th>some engagement and conversion</th>\n",
       "      <td>166.00000</td>\n",
       "      <td>20163.99000</td>\n",
       "      <td>121.46982</td>\n",
       "      <td>828.00000</td>\n",
       "      <td>32.70000</td>\n",
       "    </tr>\n",
       "    <tr>\n",
       "      <th>some engagement and no conversion</th>\n",
       "      <td>331.00000</td>\n",
       "      <td>0.00000</td>\n",
       "      <td>NaN</td>\n",
       "      <td>NaN</td>\n",
       "      <td>NaN</td>\n",
       "    </tr>\n",
       "  </tbody>\n",
       "</table>\n",
       "</div>"
      ],
      "text/plain": [
       "                                  conversion_value                                         \n",
       "                                              size         sum      mean      amax     amin\n",
       "journey                                                                                    \n",
       "no engagement and conversion               5.00000   224.06000  44.81200  52.37000 29.59000\n",
       "no engagement and no conversion          498.00000     0.00000       NaN       NaN      NaN\n",
       "some engagement and conversion           166.00000 20163.99000 121.46982 828.00000 32.70000\n",
       "some engagement and no conversion        331.00000     0.00000       NaN       NaN      NaN"
      ]
     },
     "execution_count": 47,
     "metadata": {},
     "output_type": "execute_result"
    }
   ],
   "source": [
    "import numpy as np\n",
    "\n",
    "# Build a condition list to evaluate based on certain scenarios\n",
    "condition_list = [\n",
    "    \n",
    "    # no engagement and no conversion\n",
    "    (raw_data['time_to_first_matter'].isna()) & \n",
    "    (raw_data['time_to_first_time_entry'].isna()) & \n",
    "    (raw_data['time_to_first_bill'].isna()) &\n",
    "    (raw_data['time_to_second_user'].isna()) &\n",
    "    (raw_data['time_to_conversion'].isna()),\n",
    "    \n",
    "    # some engagement and conversion \n",
    "    ((raw_data['time_to_first_matter'] > 0) | \n",
    "    (raw_data['time_to_first_time_entry'] > 0) |\n",
    "    (raw_data['time_to_first_bill'] > 0) |\n",
    "    (raw_data['time_to_second_user'] > 0)) &\n",
    "    (raw_data['time_to_conversion'] > 0),\n",
    "    \n",
    "     \n",
    "     # no engagement and conversion\n",
    "    (raw_data['time_to_first_matter'].isna()) & \n",
    "    (raw_data['time_to_first_time_entry'].isna()) & \n",
    "    (raw_data['time_to_first_bill'].isna()) &\n",
    "    (raw_data['time_to_second_user'].isna()) &\n",
    "    (raw_data['time_to_conversion'] > 0),\n",
    "    \n",
    "    # some engagement and no conversion \n",
    "    ((raw_data['time_to_first_matter'] > 0) | \n",
    "    (raw_data['time_to_first_time_entry'] > 0) |\n",
    "    (raw_data['time_to_first_bill'] > 0) |\n",
    "    (raw_data['time_to_second_user'] > 0)) &\n",
    "    (raw_data['time_to_conversion'].isna()),\n",
    "]\n",
    "\n",
    "# Assign scenarios a journey description    \n",
    "choice_list = ['no engagement and no conversion', \n",
    "               'some engagement and conversion',\n",
    "               'no engagement and conversion',\n",
    "               'some engagement and no conversion'\n",
    "              ]\n",
    "raw_data['journey'] = np.select(condition_list, choice_list, default='uncategorized')\n",
    "\n",
    "# Group accounts by journey\n",
    "columns = ['idx', 'journey', 'conversion_value']\n",
    "analysis = raw_data[columns]\n",
    "\n",
    "group_analysis = analysis.groupby('journey').agg({'conversion_value': [np.size, \n",
    "                                                                       np.sum, \n",
    "                                                                       np.mean, \n",
    "                                                                       np.max, \n",
    "                                                                       np.min]})\n",
    "\n",
    "group_analysis.head()\n"
   ]
  },
  {
   "cell_type": "markdown",
   "metadata": {},
   "source": [
    "## Skew For Each Attribute\n",
    "- Checking for skewness because machine learning techniques assume that there is a normal distribution"
   ]
  },
  {
   "cell_type": "code",
   "execution_count": 49,
   "metadata": {},
   "outputs": [
    {
     "name": "stdout",
     "output_type": "stream",
     "text": [
      "idx                           -0.04667\n",
      "time_to_first_matter           2.42557\n",
      "time_to_first_time_entry       2.41474\n",
      "time_to_first_bill             1.51663\n",
      "time_to_second_user            1.77736\n",
      "page_views_in_first_hour       2.32223\n",
      "page_views_in_first_day        4.62391\n",
      "page_views_in_first_7_days     5.31661\n",
      "page_views_in_first_14_days    6.13625\n",
      "time_to_conversion             0.48333\n",
      "conversion_value               3.00399\n",
      "dtype: float64\n"
     ]
    }
   ],
   "source": [
    "skew = raw_data.skew()\n",
    "print(skew)"
   ]
  },
  {
   "cell_type": "markdown",
   "metadata": {},
   "source": [
    "## Data Prep For Prediction"
   ]
  },
  {
   "cell_type": "code",
   "execution_count": 64,
   "metadata": {},
   "outputs": [],
   "source": [
    "condition = raw_data['time_to_conversion'] > 0\n",
    "raw_data['convert'] = np.where(condition, 1, 0)"
   ]
  },
  {
   "cell_type": "markdown",
   "metadata": {},
   "source": [
    "## Model To Predict an Accounts Conversion Based on Early Application Engagement\n",
    "- Approach that I would take is Time to Event Analysis to estimate when an account converts in a 14 day period\n",
    "- Seeing that not all accounts convert by day 14, we dont know if and when they will eventually convert\n",
    "- Using the Cox Proportional Hazard we could introduce the censorship (accounts that havent converted yet within 14 days). If we remove them we could be biasing results. We can't ignore them and need to distinguish them from those that reached the event of conversion within 14 days\n",
    "- Explaining this model to people not in Data, I would say that we don't want to ignore accounts that engage in the first 14 days but do not convert within the first 14 days. We could continue to monitor those that haven't converted further out in time (30 days, 45 days, 60 days). \n",
    "- The model also tells the probability that a conversion will happen at a certain point in time. \n",
    "- I would use the lifelines python package to perform this \n",
    "- The recommendation is that the sooner we assist accounts within the 14 day period to engage in the product, the more likely they will convert"
   ]
  },
  {
   "cell_type": "markdown",
   "metadata": {},
   "source": [
    "## Experiment \n",
    "- With approximately 50% of accounts with no engagement and no conversion we could do some experiments on the pricing page where the clients first seeing plans and prices. We could have the control group see the pricing page as is and have the test group see a different arrangement and copy/ messaging of it to see if they could start to engage with the application.\n",
    "- Null Hypothesis: High to Low Pricing on pricing page layout does not correlate with engagement of application\n",
    "- Alternate Hypothesis: Changing the pricing page layout to Low To High Pricing increases engagement of application\n",
    "- Try to control any confounding variables ( pricing should not change between both groups, and there should be no difference in business process with the groups during their first 14 day period)"
   ]
  },
  {
   "cell_type": "code",
   "execution_count": null,
   "metadata": {},
   "outputs": [],
   "source": []
  }
 ],
 "metadata": {
  "kernelspec": {
   "display_name": "Python 3",
   "language": "python",
   "name": "python3"
  },
  "language_info": {
   "codemirror_mode": {
    "name": "ipython",
    "version": 3
   },
   "file_extension": ".py",
   "mimetype": "text/x-python",
   "name": "python",
   "nbconvert_exporter": "python",
   "pygments_lexer": "ipython3",
   "version": "3.8.3"
  }
 },
 "nbformat": 4,
 "nbformat_minor": 4
}
